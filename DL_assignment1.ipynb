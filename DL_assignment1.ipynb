{
 "cells": [
  {
   "cell_type": "markdown",
   "metadata": {},
   "source": [
    "# Project: Image Classification and Regression"
   ]
  },
  {
   "cell_type": "markdown",
   "metadata": {},
   "source": [
    "## 2.Download the code\n"
   ]
  },
  {
   "cell_type": "code",
   "execution_count": 2,
   "metadata": {},
   "outputs": [],
   "source": [
    "import matplotlib.pyplot as plt\n",
    "%matplotlib inline\n",
    "import numpy as np\n",
    "from keras.utils import np_utils"
   ]
  },
  {
   "cell_type": "code",
   "execution_count": 3,
   "metadata": {},
   "outputs": [],
   "source": [
    "# On some implementations of matplotlib, you may need to change this value\n",
    "IMAGE_SIZE = 72"
   ]
  },
  {
   "cell_type": "code",
   "execution_count": 4,
   "metadata": {},
   "outputs": [],
   "source": [
    "def generate_a_drawing(figsize, U, V, noise=0.0):\n",
    "    fig = plt.figure(figsize=(figsize,figsize))\n",
    "    ax = plt.subplot(111)\n",
    "    plt.axis('Off')\n",
    "    ax.set_xlim(0,figsize)\n",
    "    ax.set_ylim(0,figsize)\n",
    "    ax.fill(U, V, \"k\")\n",
    "    fig.canvas.draw()\n",
    "    imdata = np.frombuffer(fig.canvas.tostring_rgb(), dtype=np.uint8)[::3].astype(np.float32)\n",
    "    imdata = imdata + noise * np.random.random(imdata.size)\n",
    "    plt.close(fig)\n",
    "    return imdata"
   ]
  },
  {
   "cell_type": "code",
   "execution_count": 5,
   "metadata": {},
   "outputs": [],
   "source": [
    "def generate_a_rectangle(noise=0.0, free_location=False):\n",
    "    figsize = 1.0    \n",
    "    U = np.zeros(4)\n",
    "    V = np.zeros(4)\n",
    "    if free_location:\n",
    "        corners = np.random.random(4)\n",
    "        top = max(corners[0], corners[1])\n",
    "        bottom = min(corners[0], corners[1])\n",
    "        left = min(corners[2], corners[3])\n",
    "        right = max(corners[2], corners[3])\n",
    "    else:\n",
    "        side = (0.3 + 0.7 * np.random.random()) * figsize\n",
    "        top = figsize/2 + side/2\n",
    "        bottom = figsize/2 - side/2\n",
    "        left = bottom\n",
    "        right = top\n",
    "    U[0] = U[1] = top\n",
    "    U[2] = U[3] = bottom\n",
    "    V[0] = V[3] = left\n",
    "    V[1] = V[2] = right\n",
    "    return generate_a_drawing(figsize, U, V, noise)"
   ]
  },
  {
   "cell_type": "code",
   "execution_count": 6,
   "metadata": {},
   "outputs": [],
   "source": [
    "def generate_a_disk(noise=0.0, free_location=False):\n",
    "    figsize = 1.0\n",
    "    if free_location:\n",
    "        center = np.random.random(2)\n",
    "    else:\n",
    "        center = (figsize/2, figsize/2)\n",
    "    radius = (0.3 + 0.7 * np.random.random()) * figsize/2\n",
    "    N = 50\n",
    "    U = np.zeros(N)\n",
    "    V = np.zeros(N)\n",
    "    i = 0\n",
    "    for t in np.linspace(0, 2*np.pi, N):\n",
    "        U[i] = center[0] + np.cos(t) * radius\n",
    "        V[i] = center[1] + np.sin(t) * radius\n",
    "        i = i + 1\n",
    "    return generate_a_drawing(figsize, U, V, noise)"
   ]
  },
  {
   "cell_type": "code",
   "execution_count": 7,
   "metadata": {},
   "outputs": [],
   "source": [
    "def generate_a_triangle(noise=0.0, free_location=False):\n",
    "    figsize = 1.0\n",
    "    if free_location:\n",
    "        U = np.random.random(3)\n",
    "        V = np.random.random(3)\n",
    "    else:\n",
    "        size = (0.3 + 0.7 * np.random.random())*figsize/2\n",
    "        middle = figsize/2\n",
    "        U = (middle, middle+size, middle-size)\n",
    "        V = (middle+size, middle-size, middle-size)\n",
    "    imdata = generate_a_drawing(figsize, U, V, noise)\n",
    "    return [imdata, [U[0], V[0], U[1], V[1], U[2], V[2]]]"
   ]
  },
  {
   "cell_type": "code",
   "execution_count": 8,
   "metadata": {},
   "outputs": [
    {
     "data": {
      "text/plain": [
       "<matplotlib.image.AxesImage at 0x1639d78fc50>"
      ]
     },
     "execution_count": 8,
     "metadata": {},
     "output_type": "execute_result"
    },
    {
     "data": {
      "image/png": "[encoded data removed]",
      "text/plain": [
       "<Figure size 432x288 with 1 Axes>"
      ]
     },
     "metadata": {},
     "output_type": "display_data"
    }
   ],
   "source": [
    "im = generate_a_rectangle(10, True)\n",
    "plt.imshow(im.reshape(IMAGE_SIZE,IMAGE_SIZE), cmap='gray')"
   ]
  },
  {
   "cell_type": "code",
   "execution_count": 9,
   "metadata": {},
   "outputs": [
    {
     "data": {
      "text/plain": [
       "<matplotlib.image.AxesImage at 0x1639d84ad30>"
      ]
     },
     "execution_count": 9,
     "metadata": {},
     "output_type": "execute_result"
    },
    {
     "data": {
      "image/png": "[encoded data removed]",
      "text/plain": [
       "<Figure size 432x288 with 1 Axes>"
      ]
     },
     "metadata": {},
     "output_type": "display_data"
    }
   ],
   "source": [
    "im = generate_a_disk(10)\n",
    "plt.imshow(im.reshape(IMAGE_SIZE,IMAGE_SIZE), cmap='gray')"
   ]
  },
  {
   "cell_type": "code",
   "execution_count": 10,
   "metadata": {},
   "outputs": [
    {
     "data": {
      "text/plain": [
       "<matplotlib.image.AxesImage at 0x1639d8dfe80>"
      ]
     },
     "execution_count": 10,
     "metadata": {},
     "output_type": "execute_result"
    },
    {
     "data": {
      "image/png": "[encoded data removed]",
      "text/plain": [
       "<Figure size 432x288 with 1 Axes>"
      ]
     },
     "metadata": {},
     "output_type": "display_data"
    }
   ],
   "source": [
    "[im, v] = generate_a_triangle(20, False)\n",
    "plt.imshow(im.reshape(IMAGE_SIZE,IMAGE_SIZE), cmap='gray')"
   ]
  },
  {
   "cell_type": "code",
   "execution_count": 11,
   "metadata": {},
   "outputs": [],
   "source": [
    "def generate_dataset_classification(nb_samples, noise=0.0, free_location=False):\n",
    "    # Getting im_size:\n",
    "    im_size = generate_a_rectangle().shape[0]\n",
    "    X = np.zeros([nb_samples,im_size])\n",
    "    Y = np.zeros(nb_samples)\n",
    "    print('Creating data:')\n",
    "    for i in range(nb_samples):\n",
    "        if i % 10 == 0:\n",
    "            print(i)\n",
    "        category = np.random.randint(3)\n",
    "        if category == 0:\n",
    "            X[i] = generate_a_rectangle(noise, free_location)\n",
    "        elif category == 1: \n",
    "            X[i] = generate_a_disk(noise, free_location)\n",
    "        else:\n",
    "            [X[i], V] = generate_a_triangle(noise, free_location)\n",
    "        Y[i] = category\n",
    "    X = (X + noise) / (255 + 2 * noise)\n",
    "    return [X, Y]"
   ]
  },
  {
   "cell_type": "code",
   "execution_count": 12,
   "metadata": {},
   "outputs": [],
   "source": [
    "def generate_test_set_classification():\n",
    "    np.random.seed(42)\n",
    "    [X_test, Y_test] = generate_dataset_classification(300, 20, True)\n",
    "    Y_test = np_utils.to_categorical(Y_test, 3) \n",
    "    return [X_test, Y_test]"
   ]
  },
  {
   "cell_type": "code",
   "execution_count": 13,
   "metadata": {},
   "outputs": [],
   "source": [
    "def generate_dataset_regression(nb_samples, noise=0.0):\n",
    "    # Getting im_size:\n",
    "    im_size = generate_a_triangle()[0].shape[0]\n",
    "    X = np.zeros([nb_samples,im_size])\n",
    "    Y = np.zeros([nb_samples, 6])\n",
    "    print('Creating data:')\n",
    "    for i in range(nb_samples):\n",
    "        if i % 10 == 0:\n",
    "            print(i)\n",
    "        [X[i], Y[i]] = generate_a_triangle(noise, True)\n",
    "    X = (X + noise) / (255 + 2 * noise)\n",
    "    return [X, Y]"
   ]
  },
  {
   "cell_type": "code",
   "execution_count": 14,
   "metadata": {},
   "outputs": [],
   "source": [
    "import matplotlib.patches as patches\n",
    "\n",
    "def visualize_prediction(x, y):\n",
    "    fig, ax = plt.subplots(figsize=(5, 5))\n",
    "    I = x.reshape((IMAGE_SIZE,IMAGE_SIZE))\n",
    "    ax.imshow(I, extent=[-0.15,1.15,-0.15,1.15],cmap='gray')\n",
    "    ax.set_xlim([0,1])\n",
    "    ax.set_ylim([0,1])\n",
    "\n",
    "    xy = y.reshape(3,2)\n",
    "    tri = patches.Polygon(xy, closed=True, fill = False, edgecolor = 'r', linewidth = 5, alpha = 0.5)\n",
    "    ax.add_patch(tri)\n",
    "\n",
    "    plt.show()"
   ]
  },
  {
   "cell_type": "code",
   "execution_count": 15,
   "metadata": {},
   "outputs": [],
   "source": [
    "def generate_test_set_regression():\n",
    "    np.random.seed(42)\n",
    "    [X_test, Y_test] = generate_dataset_regression(300, 20)\n",
    "    return [X_test, Y_test]"
   ]
  },
  {
   "cell_type": "markdown",
   "metadata": {},
   "source": [
    "## 3.Simple classification"
   ]
  },
  {
   "cell_type": "markdown",
   "metadata": {},
   "source": [
    "### 3.1 SGD optimization"
   ]
  },
  {
   "cell_type": "code",
   "execution_count": 18,
   "metadata": {},
   "outputs": [
    {
     "name": "stdout",
     "output_type": "stream",
     "text": [
      "Creating data:\n",
      "0\n",
      "10\n",
      "20\n",
      "30\n",
      "40\n",
      "50\n",
      "60\n",
      "70\n",
      "80\n",
      "90\n",
      "100\n",
      "110\n",
      "120\n",
      "130\n",
      "140\n",
      "150\n",
      "160\n",
      "170\n",
      "180\n",
      "190\n",
      "200\n",
      "210\n",
      "220\n",
      "230\n",
      "240\n",
      "250\n",
      "260\n",
      "270\n",
      "280\n",
      "290\n",
      "Epoch 1/10\n",
      "300/300 [==============================] - 0s 2ms/step - loss: 0.3025\n",
      "Epoch 2/10\n",
      "300/300 [==============================] - 0s 620us/step - loss: 0.2319\n",
      "Epoch 3/10\n",
      "300/300 [==============================] - 0s 565us/step - loss: 0.2080\n",
      "Epoch 4/10\n",
      "300/300 [==============================] - 0s 612us/step - loss: 0.1946\n",
      "Epoch 5/10\n",
      "300/300 [==============================] - 0s 669us/step - loss: 0.1900\n",
      "Epoch 6/10\n",
      "300/300 [==============================] - 0s 746us/step - loss: 0.1865\n",
      "Epoch 7/10\n",
      "300/300 [==============================] - 0s 705us/step - loss: 0.1975\n",
      "Epoch 8/10\n",
      "300/300 [==============================] - 0s 723us/step - loss: 0.1879\n",
      "Epoch 9/10\n",
      "300/300 [==============================] - 0s 646us/step - loss: 0.1809\n",
      "Epoch 10/10\n",
      "300/300 [==============================] - 0s 586us/step - loss: 0.1786\n"
     ]
    },
    {
     "data": {
      "text/plain": [
       "<keras.callbacks.History at 0x163a3d4bfd0>"
      ]
     },
     "execution_count": 18,
     "metadata": {},
     "output_type": "execute_result"
    }
   ],
   "source": [
    "#generate train set\n",
    "[X_train, Y_train] = generate_dataset_classification(300, 20)\n",
    "Y_train = np_utils.to_categorical(Y_train, 3)\n",
    "\n",
    "#build models\n",
    "from keras.models import Sequential\n",
    "\n",
    "model1=Sequential()\n",
    "\n",
    "#Defining the Network\n",
    "from keras.layers import Dense, Activation\n",
    "\n",
    "nb_nerons =  128\n",
    "model1.add(Dense(nb_nerons, input_shape=(X_train.shape[1],)))\n",
    "model1.add(Activation('relu'))\n",
    "model1.add(Dense(3,activation='softmax'))\n",
    "\n",
    "#defining the optimization method\n",
    "#stochastic gradient descent optimizer\n",
    "from keras.optimizers import SGD\n",
    "\n",
    "sgd=SGD(lr=0.01,decay=1e-6, momentum=0.9,nesterov=True)\n",
    "\n",
    "model1.compile(loss='mean_squared_error',optimizer=sgd)\n",
    "\n",
    "model1.fit(X_train,Y_train,epochs=10,batch_size=30)"
   ]
  },
  {
   "cell_type": "code",
   "execution_count": 19,
   "metadata": {},
   "outputs": [
    {
     "data": {
      "text/plain": [
       "array([[0., 1., 0.]], dtype=float32)"
      ]
     },
     "execution_count": 19,
     "metadata": {},
     "output_type": "execute_result"
    }
   ],
   "source": [
    "#prediction\n",
    "X_test = generate_a_disk()\n",
    "X_test = X_test.reshape(1, X_test.shape[0])\n",
    "model1.predict(X_test)"
   ]
  },
  {
   "cell_type": "markdown",
   "metadata": {},
   "source": [
    "### 3.2 Adam optimizer"
   ]
  },
  {
   "cell_type": "code",
   "execution_count": 20,
   "metadata": {},
   "outputs": [
    {
     "name": "stdout",
     "output_type": "stream",
     "text": [
      "Epoch 1/10\n",
      "300/300 [==============================] - 1s 3ms/step - loss: 0.3397\n",
      "Epoch 2/10\n",
      "300/300 [==============================] - 0s 1ms/step - loss: 0.3333\n",
      "Epoch 3/10\n",
      "300/300 [==============================] - 0s 1ms/step - loss: 0.3333\n",
      "Epoch 4/10\n",
      "300/300 [==============================] - 0s 1ms/step - loss: 0.3333\n",
      "Epoch 5/10\n",
      "300/300 [==============================] - 0s 1ms/step - loss: 0.3333\n",
      "Epoch 6/10\n",
      "300/300 [==============================] - 0s 1ms/step - loss: 0.3333\n",
      "Epoch 7/10\n",
      "300/300 [==============================] - 0s 1ms/step - loss: 0.3333\n",
      "Epoch 8/10\n",
      "300/300 [==============================] - 0s 1ms/step - loss: 0.3333\n",
      "Epoch 9/10\n",
      "300/300 [==============================] - 0s 1ms/step - loss: 0.3333\n",
      "Epoch 10/10\n",
      "300/300 [==============================] - 0s 1ms/step - loss: 0.3333\n"
     ]
    },
    {
     "data": {
      "text/plain": [
       "<keras.callbacks.History at 0x163a3f733c8>"
      ]
     },
     "execution_count": 20,
     "metadata": {},
     "output_type": "execute_result"
    }
   ],
   "source": [
    "#Adam optimizer\n",
    "model2=Sequential()\n",
    "nb_nerons =  128\n",
    "model2.add(Dense(nb_nerons, input_shape=(X_train.shape[1],)))\n",
    "model2.add(Activation('relu'))\n",
    "model2.add(Dense(3,activation='sigmoid'))\n",
    "\n",
    "model2.compile(loss='mean_squared_error',optimizer='adam')\n",
    "model2.fit(X_train,Y_train, epochs=10, batch_size=20,verbose=1)"
   ]
  },
  {
   "cell_type": "code",
   "execution_count": 21,
   "metadata": {},
   "outputs": [
    {
     "data": {
      "text/plain": [
       "array([[0., 0., 0.]], dtype=float32)"
      ]
     },
     "execution_count": 21,
     "metadata": {},
     "output_type": "execute_result"
    }
   ],
   "source": [
    "model2.predict(X_test)"
   ]
  },
  {
   "cell_type": "code",
   "execution_count": 22,
   "metadata": {},
   "outputs": [
    {
     "data": {
      "text/plain": [
       "<matplotlib.image.AxesImage at 0x163a443ab00>"
      ]
     },
     "execution_count": 22,
     "metadata": {},
     "output_type": "execute_result"
    },
    {
     "data": {
      "image/png": "[encoded data removed]",
      "text/plain": [
       "<Figure size 432x288 with 1 Axes>"
      ]
     },
     "metadata": {},
     "output_type": "display_data"
    }
   ],
   "source": [
    "plt.imshow(X_test.reshape(IMAGE_SIZE,IMAGE_SIZE),cmap='gray')"
   ]
  },
  {
   "cell_type": "markdown",
   "metadata": {
    "scrolled": false
   },
   "source": [
    "## 4.visulization of solutions"
   ]
  },
  {
   "cell_type": "code",
   "execution_count": 23,
   "metadata": {},
   "outputs": [
    {
     "data": {
      "text/plain": [
       "<matplotlib.image.AxesImage at 0x163a44c5c50>"
      ]
     },
     "execution_count": 23,
     "metadata": {},
     "output_type": "execute_result"
    },
    {
     "data": {
      "image/png": "[encoded data removed]",
      "text/plain": [
       "<Figure size 720x720 with 3 Axes>"
      ]
     },
     "metadata": {},
     "output_type": "display_data"
    }
   ],
   "source": [
    "#visulization of model1 weights\n",
    "plt.figure(figsize=(10,10))\n",
    "\n",
    "W1=model1.get_weights()\n",
    "Weight_matrix1=np.dot(W1[0],W1[2])\n",
    "plt.subplot(1,3,1)\n",
    "plt.imshow(Weight_matrix1[:,0].reshape(IMAGE_SIZE,IMAGE_SIZE),cmap='gray')\n",
    "plt.subplot(1,3,2)\n",
    "plt.imshow(Weight_matrix1[:,1].reshape(IMAGE_SIZE,IMAGE_SIZE),cmap='gray')\n",
    "plt.subplot(1,3,3)\n",
    "plt.imshow(Weight_matrix1[:,2].reshape(IMAGE_SIZE,IMAGE_SIZE),cmap='gray')"
   ]
  },
  {
   "cell_type": "code",
   "execution_count": 24,
   "metadata": {},
   "outputs": [
    {
     "data": {
      "text/plain": [
       "<matplotlib.image.AxesImage at 0x163a45cf400>"
      ]
     },
     "execution_count": 24,
     "metadata": {},
     "output_type": "execute_result"
    },
    {
     "data": {
      "image/png": "[encoded data removed]",
      "text/plain": [
       "<Figure size 720x720 with 3 Axes>"
      ]
     },
     "metadata": {},
     "output_type": "display_data"
    }
   ],
   "source": [
    "#visulization of model2 weights\n",
    "#visulization of model1 weights\n",
    "plt.figure(figsize=(10,10))\n",
    "\n",
    "W2=model2.get_weights()\n",
    "Weight_matrix2=np.dot(W2[0],W2[2])\n",
    "plt.subplot(1,3,1)\n",
    "plt.imshow(Weight_matrix2[:,0].reshape(IMAGE_SIZE,IMAGE_SIZE),cmap='gray')\n",
    "plt.subplot(1,3,2)\n",
    "plt.imshow(Weight_matrix2[:,1].reshape(IMAGE_SIZE,IMAGE_SIZE),cmap='gray')\n",
    "plt.subplot(1,3,3)\n",
    "plt.imshow(Weight_matrix2[:,2].reshape(IMAGE_SIZE,IMAGE_SIZE),cmap='gray')"
   ]
  },
  {
   "cell_type": "markdown",
   "metadata": {},
   "source": [
    "## 5. A more difficult classification problem"
   ]
  },
  {
   "cell_type": "code",
   "execution_count": 25,
   "metadata": {
    "scrolled": true
   },
   "outputs": [
    {
     "name": "stdout",
     "output_type": "stream",
     "text": [
      "Creating data:\n",
      "0\n",
      "10\n",
      "20\n",
      "30\n",
      "40\n",
      "50\n",
      "60\n",
      "70\n",
      "80\n",
      "90\n",
      "100\n",
      "110\n",
      "120\n",
      "130\n",
      "140\n",
      "150\n",
      "160\n",
      "170\n",
      "180\n",
      "190\n",
      "200\n",
      "210\n",
      "220\n",
      "230\n",
      "240\n",
      "250\n",
      "260\n",
      "270\n",
      "280\n",
      "290\n"
     ]
    }
   ],
   "source": [
    "[X_train2, Y_train2] = generate_dataset_classification(300,20,True)\n",
    "Y_train2 = np_utils.to_categorical(Y_train2, 3)"
   ]
  },
  {
   "cell_type": "code",
   "execution_count": 26,
   "metadata": {},
   "outputs": [
    {
     "name": "stdout",
     "output_type": "stream",
     "text": [
      "Epoch 1/30\n",
      "300/300 [==============================] - 2s 7ms/step - loss: 0.2219 - mean_squared_error: 0.2219\n",
      "Epoch 2/30\n",
      "300/300 [==============================] - 1s 5ms/step - loss: 0.2204 - mean_squared_error: 0.2204\n",
      "Epoch 3/30\n",
      "300/300 [==============================] - 1s 5ms/step - loss: 0.2192 - mean_squared_error: 0.2192\n",
      "Epoch 4/30\n",
      "300/300 [==============================] - 1s 5ms/step - loss: 0.2183 - mean_squared_error: 0.2183\n",
      "Epoch 5/30\n",
      "300/300 [==============================] - 2s 5ms/step - loss: 0.2177 - mean_squared_error: 0.2177\n",
      "Epoch 6/30\n",
      "300/300 [==============================] - 1s 5ms/step - loss: 0.2163 - mean_squared_error: 0.2163\n",
      "Epoch 7/30\n",
      "300/300 [==============================] - 1s 5ms/step - loss: 0.2159 - mean_squared_error: 0.2159\n",
      "Epoch 8/30\n",
      "300/300 [==============================] - 1s 5ms/step - loss: 0.2142 - mean_squared_error: 0.2142\n",
      "Epoch 9/30\n",
      "300/300 [==============================] - 1s 5ms/step - loss: 0.2122 - mean_squared_error: 0.2122\n",
      "Epoch 10/30\n",
      "300/300 [==============================] - 1s 5ms/step - loss: 0.2094 - mean_squared_error: 0.2094\n",
      "Epoch 11/30\n",
      "300/300 [==============================] - 1s 5ms/step - loss: 0.2064 - mean_squared_error: 0.2064\n",
      "Epoch 12/30\n",
      "300/300 [==============================] - 1s 5ms/step - loss: 0.2018 - mean_squared_error: 0.2018\n",
      "Epoch 13/30\n",
      "300/300 [==============================] - 1s 5ms/step - loss: 0.1974 - mean_squared_error: 0.1974\n",
      "Epoch 14/30\n",
      "300/300 [==============================] - 1s 5ms/step - loss: 0.1973 - mean_squared_error: 0.1973\n",
      "Epoch 15/30\n",
      "300/300 [==============================] - 1s 5ms/step - loss: 0.1981 - mean_squared_error: 0.1981\n",
      "Epoch 16/30\n",
      "300/300 [==============================] - 2s 5ms/step - loss: 0.1889 - mean_squared_error: 0.1889\n",
      "Epoch 17/30\n",
      "300/300 [==============================] - 1s 5ms/step - loss: 0.1858 - mean_squared_error: 0.1858\n",
      "Epoch 18/30\n",
      "300/300 [==============================] - 1s 5ms/step - loss: 0.1851 - mean_squared_error: 0.1851\n",
      "Epoch 19/30\n",
      "300/300 [==============================] - 1s 5ms/step - loss: 0.1738 - mean_squared_error: 0.1738\n",
      "Epoch 20/30\n",
      "300/300 [==============================] - 1s 5ms/step - loss: 0.1709 - mean_squared_error: 0.1709\n",
      "Epoch 21/30\n",
      "300/300 [==============================] - 1s 5ms/step - loss: 0.1758 - mean_squared_error: 0.1758\n",
      "Epoch 22/30\n",
      "300/300 [==============================] - 1s 5ms/step - loss: 0.1587 - mean_squared_error: 0.1587\n",
      "Epoch 23/30\n",
      "300/300 [==============================] - 1s 5ms/step - loss: 0.1629 - mean_squared_error: 0.1629\n",
      "Epoch 24/30\n",
      "300/300 [==============================] - 1s 5ms/step - loss: 0.1563 - mean_squared_error: 0.1563\n",
      "Epoch 25/30\n",
      "300/300 [==============================] - 2s 5ms/step - loss: 0.1624 - mean_squared_error: 0.1624\n",
      "Epoch 26/30\n",
      "300/300 [==============================] - 2s 5ms/step - loss: 0.1547 - mean_squared_error: 0.1547\n",
      "Epoch 27/30\n",
      "300/300 [==============================] - 1s 5ms/step - loss: 0.1498 - mean_squared_error: 0.1498\n",
      "Epoch 28/30\n",
      "300/300 [==============================] - 1s 5ms/step - loss: 0.1397 - mean_squared_error: 0.1397\n",
      "Epoch 29/30\n",
      "300/300 [==============================] - 1s 5ms/step - loss: 0.1443 - mean_squared_error: 0.1443\n",
      "Epoch 30/30\n",
      "300/300 [==============================] - 1s 5ms/step - loss: 0.1401 - mean_squared_error: 0.1401\n"
     ]
    },
    {
     "data": {
      "text/plain": [
       "<keras.callbacks.History at 0x163a0a44f98>"
      ]
     },
     "execution_count": 26,
     "metadata": {},
     "output_type": "execute_result"
    }
   ],
   "source": [
    "from keras.layers import Dense, Activation, Convolution2D, MaxPooling2D, Flatten\n",
    "X_train2=X_train2.reshape(X_train2.shape[0],IMAGE_SIZE,IMAGE_SIZE,1)\n",
    "model3=Sequential()\n",
    "model3.add(Convolution2D(8, (5,5), input_shape=(IMAGE_SIZE,IMAGE_SIZE,1)))\n",
    "model3.add(Activation('relu'))\n",
    "model3.add(MaxPooling2D(pool_size=(2,2)))\n",
    "model3.add(Convolution2D(8, (5,5)))\n",
    "model3.add(Activation('relu'))\n",
    "model3.add(MaxPooling2D(pool_size=(2,2)))\n",
    "model3.add(Convolution2D(8, (3,3)))\n",
    "model3.add(Activation('relu'))\n",
    "model3.add(MaxPooling2D(pool_size=(2,2)))\n",
    "model3.add(Flatten())\n",
    "\n",
    "model3.add(Dense(1024))\n",
    "model3.add(Activation('relu'))\n",
    "model3.add(Dense(128))\n",
    "model3.add(Activation('relu'))\n",
    "model3.add(Dense(3,activation='softmax'))\n",
    "model3.compile(loss='mean_squared_error',optimizer=sgd,metrics=['mse'])\n",
    "\n",
    "model3.fit(X_train2,Y_train2,epochs=30,batch_size=30)"
   ]
  },
  {
   "cell_type": "code",
   "execution_count": 27,
   "metadata": {},
   "outputs": [
    {
     "name": "stdout",
     "output_type": "stream",
     "text": [
      "Creating data:\n",
      "0\n",
      "10\n",
      "20\n",
      "30\n",
      "40\n",
      "50\n",
      "60\n",
      "70\n",
      "80\n",
      "90\n",
      "100\n",
      "110\n",
      "120\n",
      "130\n",
      "140\n",
      "150\n",
      "160\n",
      "170\n",
      "180\n",
      "190\n",
      "200\n",
      "210\n",
      "220\n",
      "230\n",
      "240\n",
      "250\n",
      "260\n",
      "270\n",
      "280\n",
      "290\n",
      "300/300 [==============================] - 1s 2ms/step\n"
     ]
    },
    {
     "data": {
      "text/plain": [
       "[0.16112187385559082, 0.16112187385559082]"
      ]
     },
     "execution_count": 27,
     "metadata": {},
     "output_type": "execute_result"
    }
   ],
   "source": [
    "from keras.utils import np_utils\n",
    "[X_test2, Y_test2] = generate_test_set_classification()\n",
    "X_test2=X_test2.reshape(X_test2.shape[0],IMAGE_SIZE,IMAGE_SIZE,1)\n",
    "model3.evaluate(X_test2, Y_test2)"
   ]
  },
  {
   "cell_type": "markdown",
   "metadata": {},
   "source": [
    "## 6.regression problem"
   ]
  },
  {
   "cell_type": "code",
   "execution_count": 73,
   "metadata": {},
   "outputs": [
    {
     "name": "stdout",
     "output_type": "stream",
     "text": [
      "Creating data:\n",
      "0\n",
      "10\n",
      "20\n",
      "30\n",
      "40\n",
      "50\n",
      "60\n",
      "70\n",
      "80\n",
      "90\n",
      "100\n",
      "110\n",
      "120\n",
      "130\n",
      "140\n",
      "150\n",
      "160\n",
      "170\n",
      "180\n",
      "190\n",
      "200\n",
      "210\n",
      "220\n",
      "230\n",
      "240\n",
      "250\n",
      "260\n",
      "270\n",
      "280\n",
      "290\n"
     ]
    }
   ],
   "source": [
    "[X_train3, Y_train3] = generate_dataset_regression(300, 20)\n",
    "X_train3=X_train3.reshape(X_train3.shape[0],IMAGE_SIZE,IMAGE_SIZE,1)"
   ]
  },
  {
   "cell_type": "code",
   "execution_count": 74,
   "metadata": {},
   "outputs": [
    {
     "data": {
      "text/plain": [
       "(300, 6)"
      ]
     },
     "execution_count": 74,
     "metadata": {},
     "output_type": "execute_result"
    }
   ],
   "source": [
    "Y_train3.shape"
   ]
  },
  {
   "cell_type": "code",
   "execution_count": 75,
   "metadata": {},
   "outputs": [
    {
     "data": {
      "image/png": "[encoded data removed]",
      "text/plain": [
       "<Figure size 360x360 with 1 Axes>"
      ]
     },
     "metadata": {},
     "output_type": "display_data"
    }
   ],
   "source": [
    "visualize_prediction(X_train3[0], Y_train3[0])"
   ]
  },
  {
   "cell_type": "code",
   "execution_count": 79,
   "metadata": {},
   "outputs": [
    {
     "name": "stdout",
     "output_type": "stream",
     "text": [
      "Creating data:\n",
      "0\n",
      "10\n",
      "20\n",
      "30\n",
      "40\n",
      "50\n",
      "60\n",
      "70\n",
      "80\n",
      "90\n",
      "100\n",
      "110\n",
      "120\n",
      "130\n",
      "140\n",
      "150\n",
      "160\n",
      "170\n",
      "180\n",
      "190\n",
      "200\n",
      "210\n",
      "220\n",
      "230\n",
      "240\n",
      "250\n",
      "260\n",
      "270\n",
      "280\n",
      "290\n"
     ]
    }
   ],
   "source": [
    "#create test set\n",
    "[X_test3, Y_test3] = generate_test_set_regression()\n",
    "X_test3=X_test3.reshape(300,IMAGE_SIZE,IMAGE_SIZE,1)"
   ]
  },
  {
   "cell_type": "code",
   "execution_count": 138,
   "metadata": {},
   "outputs": [
    {
     "data": {
      "text/plain": [
       "(300, 6)"
      ]
     },
     "execution_count": 138,
     "metadata": {},
     "output_type": "execute_result"
    }
   ],
   "source": [
    "Y_test3.shape"
   ]
  },
  {
   "cell_type": "code",
   "execution_count": 78,
   "metadata": {},
   "outputs": [
    {
     "data": {
      "text/plain": [
       "(300, 5184)"
      ]
     },
     "execution_count": 78,
     "metadata": {},
     "output_type": "execute_result"
    }
   ],
   "source": [
    "X_test3.shape"
   ]
  },
  {
   "cell_type": "code",
   "execution_count": null,
   "metadata": {},
   "outputs": [],
   "source": []
  },
  {
   "cell_type": "code",
   "execution_count": 80,
   "metadata": {},
   "outputs": [
    {
     "name": "stdout",
     "output_type": "stream",
     "text": [
      "Epoch 1/30\n",
      "300/300 [==============================] - 3s 8ms/step - loss: 0.1918 - acc: 0.1767\n",
      "Epoch 2/30\n",
      "300/300 [==============================] - 2s 6ms/step - loss: 0.1908 - acc: 0.2067\n",
      "Epoch 3/30\n",
      "300/300 [==============================] - 2s 6ms/step - loss: 0.1898 - acc: 0.2367\n",
      "Epoch 4/30\n",
      "300/300 [==============================] - 2s 6ms/step - loss: 0.1889 - acc: 0.2467\n",
      "Epoch 5/30\n",
      "300/300 [==============================] - 2s 6ms/step - loss: 0.1881 - acc: 0.2533\n",
      "Epoch 6/30\n",
      "300/300 [==============================] - 2s 6ms/step - loss: 0.1872 - acc: 0.2667\n",
      "Epoch 7/30\n",
      "300/300 [==============================] - 2s 6ms/step - loss: 0.1863 - acc: 0.2700\n",
      "Epoch 8/30\n",
      "300/300 [==============================] - 2s 6ms/step - loss: 0.1853 - acc: 0.2600\n",
      "Epoch 9/30\n",
      "300/300 [==============================] - 2s 6ms/step - loss: 0.1844 - acc: 0.2467\n",
      "Epoch 10/30\n",
      "300/300 [==============================] - 2s 6ms/step - loss: 0.1834 - acc: 0.2700\n",
      "Epoch 11/30\n",
      "300/300 [==============================] - 2s 6ms/step - loss: 0.1823 - acc: 0.2667\n",
      "Epoch 12/30\n",
      "300/300 [==============================] - 2s 6ms/step - loss: 0.1814 - acc: 0.2733\n",
      "Epoch 13/30\n",
      "300/300 [==============================] - 2s 6ms/step - loss: 0.1803 - acc: 0.2800\n",
      "Epoch 14/30\n",
      "300/300 [==============================] - 2s 6ms/step - loss: 0.1794 - acc: 0.2800\n",
      "Epoch 15/30\n",
      "300/300 [==============================] - 2s 6ms/step - loss: 0.1785 - acc: 0.3067\n",
      "Epoch 16/30\n",
      "300/300 [==============================] - 2s 6ms/step - loss: 0.1778 - acc: 0.3033\n",
      "Epoch 17/30\n",
      "300/300 [==============================] - 2s 6ms/step - loss: 0.1772 - acc: 0.3400\n",
      "Epoch 18/30\n",
      "300/300 [==============================] - 2s 6ms/step - loss: 0.1764 - acc: 0.3467\n",
      "Epoch 19/30\n",
      "300/300 [==============================] - 2s 6ms/step - loss: 0.1758 - acc: 0.3533\n",
      "Epoch 20/30\n",
      "300/300 [==============================] - 2s 6ms/step - loss: 0.1750 - acc: 0.3467\n",
      "Epoch 21/30\n",
      "300/300 [==============================] - 2s 6ms/step - loss: 0.1744 - acc: 0.3700\n",
      "Epoch 22/30\n",
      "300/300 [==============================] - 2s 6ms/step - loss: 0.1736 - acc: 0.3833\n",
      "Epoch 23/30\n",
      "300/300 [==============================] - 2s 6ms/step - loss: 0.1731 - acc: 0.3733\n",
      "Epoch 24/30\n",
      "300/300 [==============================] - 2s 6ms/step - loss: 0.1722 - acc: 0.4200\n",
      "Epoch 25/30\n",
      "300/300 [==============================] - 2s 6ms/step - loss: 0.1713 - acc: 0.3933\n",
      "Epoch 26/30\n",
      "300/300 [==============================] - 2s 6ms/step - loss: 0.1708 - acc: 0.4067\n",
      "Epoch 27/30\n",
      "300/300 [==============================] - 2s 6ms/step - loss: 0.1697 - acc: 0.4367\n",
      "Epoch 28/30\n",
      "300/300 [==============================] - 2s 6ms/step - loss: 0.1690 - acc: 0.4467\n",
      "Epoch 29/30\n",
      "300/300 [==============================] - 2s 6ms/step - loss: 0.1685 - acc: 0.4167\n",
      "Epoch 30/30\n",
      "300/300 [==============================] - 2s 5ms/step - loss: 0.1676 - acc: 0.4767\n"
     ]
    },
    {
     "data": {
      "text/plain": [
       "<keras.callbacks.History at 0x23c0212df98>"
      ]
     },
     "execution_count": 80,
     "metadata": {},
     "output_type": "execute_result"
    }
   ],
   "source": [
    "#build model\n",
    "from keras.layers.normalization import BatchNormalization\n",
    "model6=Sequential()\n",
    "model6.add(BatchNormalization())\n",
    "model6.add(Convolution2D(8, (5,5), input_shape=(IMAGE_SIZE,IMAGE_SIZE,1)))\n",
    "model6.add(Activation('relu'))\n",
    "model6.add(MaxPooling2D(pool_size=(2,2)))\n",
    "model6.add(Convolution2D(8, (5,5)))\n",
    "model6.add(Activation('relu'))\n",
    "model6.add(MaxPooling2D(pool_size=(2,2)))\n",
    "model6.add(Convolution2D(8, (3,3)))\n",
    "model6.add(Activation('relu'))\n",
    "model6.add(MaxPooling2D(pool_size=(2,2)))\n",
    "model6.add(Flatten())\n",
    "\n",
    "model6.add(Dense(1024))\n",
    "model6.add(Activation('relu'))\n",
    "model6.add(Dense(128))\n",
    "model6.add(Activation('relu'))\n",
    "model6.add(Dense(6,activation='softmax'))\n",
    "model6.compile(loss='mean_squared_error',optimizer=sgd,metrics=['accuracy'])\n",
    "\n",
    "model6.fit(X_train3,Y_train3,epochs=30,batch_size=30)"
   ]
  },
  {
   "cell_type": "code",
   "execution_count": 144,
   "metadata": {},
   "outputs": [
    {
     "data": {
      "text/plain": [
       "(300, 5184)"
      ]
     },
     "execution_count": 144,
     "metadata": {},
     "output_type": "execute_result"
    }
   ],
   "source": [
    "X_test3.shape"
   ]
  },
  {
   "cell_type": "code",
   "execution_count": 145,
   "metadata": {},
   "outputs": [
    {
     "data": {
      "text/plain": [
       "(300, 6)"
      ]
     },
     "execution_count": 145,
     "metadata": {},
     "output_type": "execute_result"
    }
   ],
   "source": [
    "Y_test3.shape"
   ]
  },
  {
   "cell_type": "code",
   "execution_count": null,
   "metadata": {},
   "outputs": [],
   "source": []
  },
  {
   "cell_type": "code",
   "execution_count": 81,
   "metadata": {},
   "outputs": [
    {
     "name": "stdout",
     "output_type": "stream",
     "text": [
      "300/300 [==============================] - 1s 3ms/step\n"
     ]
    },
    {
     "data": {
      "text/plain": [
       "[0.18706143856048585, 0.24333333353201547]"
      ]
     },
     "execution_count": 81,
     "metadata": {},
     "output_type": "execute_result"
    }
   ],
   "source": [
    "model6.evaluate(X_test3,Y_test3)"
   ]
  },
  {
   "cell_type": "markdown",
   "metadata": {},
   "source": [
    "## 7.Image Denoising"
   ]
  },
  {
   "cell_type": "code",
   "execution_count": 82,
   "metadata": {},
   "outputs": [],
   "source": [
    "def generate_a_drawing(figsize, U, V, noise=0.0):\n",
    "    fig = plt.figure(figsize=(figsize,figsize))\n",
    "    ax = plt.subplot(111)\n",
    "    plt.axis('Off')\n",
    "    ax.set_xlim(0,figsize)\n",
    "    ax.set_ylim(0,figsize)\n",
    "    ax.fill(U, V, \"k\")\n",
    "    fig.canvas.draw()\n",
    "    imdata = np.frombuffer(fig.canvas.tostring_rgb(), dtype=np.uint8)[::3].astype(np.float32)\n",
    "    imdata = imdata + noise * np.random.random(imdata.size)\n",
    "    plt.close(fig)\n",
    "    return imdata"
   ]
  },
  {
   "cell_type": "code",
   "execution_count": 83,
   "metadata": {},
   "outputs": [],
   "source": [
    "def generate_a_rectangle2(noise=0.0, free_location=False):\n",
    "    figsize = 1.0    \n",
    "    U = np.zeros(4)\n",
    "    V = np.zeros(4)\n",
    "    if free_location:\n",
    "        corners = np.random.random(4)\n",
    "        top = max(corners[0], corners[1])\n",
    "        bottom = min(corners[0], corners[1])\n",
    "        left = min(corners[2], corners[3])\n",
    "        right = max(corners[2], corners[3])\n",
    "    else:\n",
    "        side = (0.3 + 0.7 * np.random.random()) * figsize\n",
    "        top = figsize/2 + side/2\n",
    "        bottom = figsize/2 - side/2\n",
    "        left = bottom\n",
    "        right = top\n",
    "    U[0] = U[1] = top\n",
    "    U[2] = U[3] = bottom\n",
    "    V[0] = V[3] = left\n",
    "    V[1] = V[2] = right\n",
    "    return [generate_a_drawing(figsize, U, V, noise=np.random.randint(100)),generate_a_drawing(figsize, U, V, noise=0)]"
   ]
  },
  {
   "cell_type": "code",
   "execution_count": 84,
   "metadata": {},
   "outputs": [],
   "source": [
    "def generate_a_disk2(noise=0.0, free_location=False):\n",
    "    figsize = 1.0\n",
    "    if free_location:\n",
    "        center = np.random.random(2)\n",
    "    else:\n",
    "        center = (figsize/2, figsize/2)\n",
    "    radius = (0.3 + 0.7 * np.random.random()) * figsize/2\n",
    "    N = 50\n",
    "    U = np.zeros(N)\n",
    "    V = np.zeros(N)\n",
    "    i = 0\n",
    "    for t in np.linspace(0, 2*np.pi, N):\n",
    "        U[i] = center[0] + np.cos(t) * radius\n",
    "        V[i] = center[1] + np.sin(t) * radius\n",
    "        i = i + 1\n",
    "    return [generate_a_drawing(figsize, U, V, noise=np.random.randint(100)),generate_a_drawing(figsize, U, V, noise=0)]"
   ]
  },
  {
   "cell_type": "code",
   "execution_count": 85,
   "metadata": {},
   "outputs": [],
   "source": [
    "def generate_a_triangle2(noise=0.0, free_location=False):\n",
    "    figsize = 1.0\n",
    "    if free_location:\n",
    "        U = np.random.random(3)\n",
    "        V = np.random.random(3)\n",
    "    else:\n",
    "        size = (0.3 + 0.7 * np.random.random())*figsize/2\n",
    "        middle = figsize/2\n",
    "        U = (middle, middle+size, middle-size)\n",
    "        V = (middle+size, middle-size, middle-size)\n",
    "    imdata1 = generate_a_drawing(figsize, U, V, noise=np.random.randint(100))\n",
    "    imdata2 = generate_a_drawing(figsize, U, V, noise=0)\n",
    "    return [[imdata1, [U[0], V[0], U[1], V[1], U[2], V[2]]],[imdata2, [U[0], V[0], U[1], V[1], U[2], V[2]]]]"
   ]
  },
  {
   "cell_type": "code",
   "execution_count": 118,
   "metadata": {},
   "outputs": [],
   "source": [
    "def generate_dataset_Denosing(nb_samples,free_location=False):\n",
    "    # Getting im_size:\n",
    "    im_size = generate_a_rectangle().shape[0]\n",
    "    X_train= np.zeros([nb_samples,im_size])\n",
    "    Y_train= np.zeros(nb_samples)\n",
    "    X_test = np.zeros([nb_samples,im_size])\n",
    "    Y_test = np.zeros(nb_samples)\n",
    "    print('Creating data:')\n",
    "    for i in range(nb_samples):\n",
    "        if i % 10 == 0:\n",
    "            print(i)\n",
    "        category = np.random.randint(3)\n",
    "        if category == 0:\n",
    "            X_train[i] = generate_a_rectangle2(free_location)[0]\n",
    "            X_test[i] = generate_a_rectangle2(free_location)[1]\n",
    "        elif category == 1: \n",
    "            X_train[i] = generate_a_disk2(free_location)[0]\n",
    "            X_test[i] = generate_a_disk2(free_location)[1]\n",
    "        else:\n",
    "            [X_train[i], V1] = generate_a_triangle2(free_location)[0]\n",
    "            [X_test[i], V2] = generate_a_triangle2(free_location)[1]\n",
    "        Y_train[i] = category\n",
    "        Y_test[i] = category\n",
    "    X_train = X_train / 255\n",
    "    X_test = X_test/255\n",
    "    return [[X_train, Y_train],[X_test,Y_test]]"
   ]
  },
  {
   "cell_type": "code",
   "execution_count": 119,
   "metadata": {},
   "outputs": [
    {
     "name": "stdout",
     "output_type": "stream",
     "text": [
      "Creating data:\n",
      "0\n",
      "10\n",
      "20\n",
      "30\n",
      "40\n",
      "50\n",
      "60\n",
      "70\n",
      "80\n",
      "90\n",
      "100\n",
      "110\n",
      "120\n",
      "130\n",
      "140\n",
      "150\n",
      "160\n",
      "170\n",
      "180\n",
      "190\n",
      "200\n",
      "210\n",
      "220\n",
      "230\n",
      "240\n",
      "250\n",
      "260\n",
      "270\n",
      "280\n",
      "290\n"
     ]
    }
   ],
   "source": [
    "[X_train4,Y_train4],[X_test4,Y_test4]=generate_dataset_Denosing(300,free_location=False)"
   ]
  },
  {
   "cell_type": "code",
   "execution_count": 120,
   "metadata": {},
   "outputs": [],
   "source": [
    "X_train4=X_train4.reshape(X_train4.shape[0],IMAGE_SIZE,IMAGE_SIZE,1)\n",
    "X_test4=X_test4.reshape(X_test4.shape[0],IMAGE_SIZE,IMAGE_SIZE,1)"
   ]
  },
  {
   "cell_type": "code",
   "execution_count": 121,
   "metadata": {},
   "outputs": [],
   "source": [
    "Y_test4=np_utils.to_categorical(Y_test4,3)\n",
    "Y_train4 = np_utils.to_categorical(Y_train4, 3)"
   ]
  },
  {
   "cell_type": "code",
   "execution_count": 122,
   "metadata": {},
   "outputs": [
    {
     "name": "stdout",
     "output_type": "stream",
     "text": [
      "Epoch 1/30\n",
      "300/300 [==============================] - 2s 8ms/step - loss: 0.2200 - acc: 0.4033\n",
      "Epoch 2/30\n",
      "300/300 [==============================] - 2s 5ms/step - loss: 0.2105 - acc: 0.5633\n",
      "Epoch 3/30\n",
      "300/300 [==============================] - 1s 5ms/step - loss: 0.1950 - acc: 0.6567\n",
      "Epoch 4/30\n",
      "300/300 [==============================] - 2s 5ms/step - loss: 0.1616 - acc: 0.6867A: 0s - loss: 0.1642 - acc: 0.685\n",
      "Epoch 5/30\n",
      "300/300 [==============================] - 1s 5ms/step - loss: 0.1159 - acc: 0.7533\n",
      "Epoch 6/30\n",
      "300/300 [==============================] - 1s 5ms/step - loss: 0.0680 - acc: 0.9000\n",
      "Epoch 7/30\n",
      "300/300 [==============================] - 1s 5ms/step - loss: 0.0549 - acc: 0.9100\n",
      "Epoch 8/30\n",
      "300/300 [==============================] - 1s 5ms/step - loss: 0.0555 - acc: 0.8967\n",
      "Epoch 9/30\n",
      "300/300 [==============================] - 1s 5ms/step - loss: 0.0254 - acc: 0.9533\n",
      "Epoch 10/30\n",
      "300/300 [==============================] - 1s 5ms/step - loss: 0.0159 - acc: 0.9767\n",
      "Epoch 11/30\n",
      "300/300 [==============================] - 1s 5ms/step - loss: 0.0124 - acc: 0.9767\n",
      "Epoch 12/30\n",
      "300/300 [==============================] - 2s 6ms/step - loss: 0.0101 - acc: 0.9900\n",
      "Epoch 13/30\n",
      "300/300 [==============================] - 2s 6ms/step - loss: 0.0103 - acc: 0.9867\n",
      "Epoch 14/30\n",
      "300/300 [==============================] - 2s 5ms/step - loss: 0.0065 - acc: 0.9900\n",
      "Epoch 15/30\n",
      "300/300 [==============================] - 1s 5ms/step - loss: 0.0044 - acc: 0.9967\n",
      "Epoch 16/30\n",
      "300/300 [==============================] - 1s 5ms/step - loss: 0.0036 - acc: 1.0000\n",
      "Epoch 17/30\n",
      "300/300 [==============================] - 1s 5ms/step - loss: 0.0029 - acc: 1.0000\n",
      "Epoch 18/30\n",
      "300/300 [==============================] - 2s 5ms/step - loss: 0.0027 - acc: 0.9967\n",
      "Epoch 19/30\n",
      "300/300 [==============================] - 1s 5ms/step - loss: 0.0045 - acc: 0.9967\n",
      "Epoch 20/30\n",
      "300/300 [==============================] - 2s 5ms/step - loss: 0.0030 - acc: 0.9967\n",
      "Epoch 21/30\n",
      "300/300 [==============================] - 2s 5ms/step - loss: 0.0018 - acc: 1.0000\n",
      "Epoch 22/30\n",
      "300/300 [==============================] - 2s 5ms/step - loss: 0.0016 - acc: 1.0000\n",
      "Epoch 23/30\n",
      "300/300 [==============================] - 1s 5ms/step - loss: 0.0014 - acc: 1.0000\n",
      "Epoch 24/30\n",
      "300/300 [==============================] - 2s 6ms/step - loss: 0.0014 - acc: 1.0000\n",
      "Epoch 25/30\n",
      "300/300 [==============================] - 2s 5ms/step - loss: 9.8141e-04 - acc: 1.0000\n",
      "Epoch 26/30\n",
      "300/300 [==============================] - 2s 5ms/step - loss: 0.0014 - acc: 1.0000\n",
      "Epoch 27/30\n",
      "300/300 [==============================] - 2s 6ms/step - loss: 0.0012 - acc: 1.0000\n",
      "Epoch 28/30\n",
      "300/300 [==============================] - 2s 6ms/step - loss: 0.0010 - acc: 1.0000\n",
      "Epoch 29/30\n",
      "300/300 [==============================] - 2s 6ms/step - loss: 0.0011 - acc: 1.0000\n",
      "Epoch 30/30\n",
      "300/300 [==============================] - 2s 5ms/step - loss: 9.9002e-04 - acc: 1.0000\n"
     ]
    },
    {
     "data": {
      "text/plain": [
       "<keras.callbacks.History at 0x23c0c36bac8>"
      ]
     },
     "execution_count": 122,
     "metadata": {},
     "output_type": "execute_result"
    }
   ],
   "source": [
    "model7=Sequential()\n",
    "model7.add(Convolution2D(8, (5,5), input_shape=(IMAGE_SIZE,IMAGE_SIZE,1)))\n",
    "model7.add(Activation('relu'))\n",
    "model7.add(MaxPooling2D(pool_size=(2,2)))\n",
    "model7.add(Convolution2D(8, (5,5)))\n",
    "model7.add(Activation('relu'))\n",
    "model7.add(MaxPooling2D(pool_size=(2,2)))\n",
    "model7.add(Convolution2D(8, (3,3)))\n",
    "model7.add(Activation('relu'))\n",
    "model7.add(MaxPooling2D(pool_size=(2,2)))\n",
    "model7.add(Flatten())\n",
    "\n",
    "model7.add(Dense(1024))\n",
    "model7.add(Activation('relu'))\n",
    "model7.add(Dense(128))\n",
    "model7.add(Activation('relu'))\n",
    "model7.add(Dense(3,activation='softmax'))\n",
    "model7.compile(loss='mean_squared_error',optimizer=sgd,metrics=['accuracy'])\n",
    "\n",
    "model7.fit(X_train4,Y_train4,epochs=30,batch_size=30)"
   ]
  },
  {
   "cell_type": "code",
   "execution_count": null,
   "metadata": {},
   "outputs": [],
   "source": []
  },
  {
   "cell_type": "code",
   "execution_count": 123,
   "metadata": {},
   "outputs": [
    {
     "name": "stdout",
     "output_type": "stream",
     "text": [
      "300/300 [==============================] - 1s 3ms/step\n"
     ]
    },
    {
     "data": {
      "text/plain": [
       "[0.0007017960888333619, 1.0]"
      ]
     },
     "execution_count": 123,
     "metadata": {},
     "output_type": "execute_result"
    }
   ],
   "source": [
    "model7.evaluate(X_test4,Y_test4)"
   ]
  },
  {
   "cell_type": "code",
   "execution_count": 130,
   "metadata": {},
   "outputs": [
    {
     "data": {
      "text/plain": [
       "<matplotlib.image.AxesImage at 0x23c0cdc4d30>"
      ]
     },
     "execution_count": 130,
     "metadata": {},
     "output_type": "execute_result"
    },
    {
     "data": {
      "image/png": "[encoded data removed]",
      "text/plain": [
       "<Figure size 432x288 with 1 Axes>"
      ]
     },
     "metadata": {},
     "output_type": "display_data"
    }
   ],
   "source": [
    "plt.imshow(X_train4[11].reshape(72,72),cmap='gray')"
   ]
  },
  {
   "cell_type": "code",
   "execution_count": 131,
   "metadata": {},
   "outputs": [
    {
     "data": {
      "text/plain": [
       "<matplotlib.image.AxesImage at 0x23c0ce21438>"
      ]
     },
     "execution_count": 131,
     "metadata": {},
     "output_type": "execute_result"
    },
    {
     "data": {
      "image/png": "[encoded data removed]",
      "text/plain": [
       "<Figure size 432x288 with 1 Axes>"
      ]
     },
     "metadata": {},
     "output_type": "display_data"
    }
   ],
   "source": [
    "plt.imshow(X_test4[11].reshape(72,72),cmap='gray')"
   ]
  },
  {
   "cell_type": "code",
   "execution_count": null,
   "metadata": {},
   "outputs": [],
   "source": []
  }
 ],
 "metadata": {
  "kernelspec": {
   "display_name": "Python 3",
   "language": "python",
   "name": "python3"
  },
  "language_info": {
   "codemirror_mode": {
    "name": "ipython",
    "version": 3
   },
   "file_extension": ".py",
   "mimetype": "text/x-python",
   "name": "python",
   "nbconvert_exporter": "python",
   "pygments_lexer": "ipython3",
   "version": "3.6.5"
  }
 },
 "nbformat": 4,
 "nbformat_minor": 2
}
